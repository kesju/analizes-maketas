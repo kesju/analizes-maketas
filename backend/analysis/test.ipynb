{
 "cells": [
  {
   "cell_type": "code",
   "execution_count": 44,
   "metadata": {},
   "outputs": [
    {
     "name": "stdout",
     "output_type": "stream",
     "text": [
      "Duomenų aplankas: /home/kesju/DI/MAKETAS/analizes-maketas/data\n",
      "Rezultatų aplankas: /home/kesju/DI/MAKETAS/analizes-maketas/results\n"
     ]
    }
   ],
   "source": [
    "import subprocess\n",
    "from pathlib import Path\n",
    "import argparse\n",
    "import json\n",
    "\n",
    "\n",
    "Duomenu_aplankas = '/home/kesju/DI/MAKETAS'   # arba variantas: UBUNTU, be Docker\n",
    "\n",
    "\n",
    "# Vietinės talpyklos aplankas\n",
    "db_folder = 'analizes-maketas'\n",
    "\n",
    "# Duomenų aplankas\n",
    "rec_folder = 'data'\n",
    "\n",
    "# Analizės rezultatų aplankas\n",
    "rsl_folder = 'results'\n",
    "\n",
    "\n",
    "db_path = Path(Duomenu_aplankas, db_folder, rec_folder) \n",
    "print( 'Duomenų aplankas:', db_path)\n",
    "\n",
    "rsl_path = Path(Duomenu_aplankas, db_folder, rsl_folder) \n",
    "print( 'Rezultatų aplankas:', rsl_path)\n",
    "\n",
    "list = [\n",
    "1642627.410,\n",
    "1626931.201,\n",
    "1626934.963,\n",
    "1630693.635\n",
    "]\n",
    "\n",
    "\n",
    "fname = '1630693.635'\n",
    "fpath = Path(db_path, fname) \n",
    "channelCount = 1\n",
    "recordingId = '11111'\n",
    "\n",
    "# Call the program with the arguments\n",
    "program_args = ['python', 'analyse.py', fpath, '--channelCount', str(channelCount), '--recordingId', recordingId]\n",
    "result = subprocess.run(program_args, stdout=subprocess.PIPE)\n",
    "# output = result.stdout.decode('utf-8')\n",
    "# print(output)\n"
   ]
  },
  {
   "cell_type": "code",
   "execution_count": null,
   "metadata": {},
   "outputs": [
    {
     "name": "stdout",
     "output_type": "stream",
     "text": [
      "1626931.201_rsl.json\n",
      "/home/kesju/DI/MAKETAS/analizes-maketas/results/1626931.201_rsl.json\n"
     ]
    }
   ],
   "source": [
    "from pathlib import Path\n",
    "\n",
    "# Priedas rezultatu įrašymui analizės makete\n",
    "data_path = Path('/home/kesju/DI/MAKETAS/analizes-maketas/data/1626931.201')\n",
    "\n",
    "rsl_string = str(data_path).replace(\"data\", \"results\")\n",
    "rsl_path = Path(rsl_string)\n",
    "rsl_parent = rsl_path.parent\n",
    "\n",
    "rsl_filename = rsl_path.name + '_rsl.json'\n",
    "print(rsl_filename)\n",
    "\n",
    "\n",
    "rsl_path = Path(rsl_parent, rsl_filename)\n",
    "print(rsl_path)\n",
    "\n",
    "# # Create a Path object\n",
    "# # p = Path(args.fileName)\n",
    "# p = Path(data_path)\n",
    "# print(p)\n",
    "\n",
    "# filename = p.name\n",
    "# print(filename)\n",
    "# remaining_path = p.parent\n",
    "# print('remaining_path:',remaining_path)\n",
    "\n",
    "# # rsl_folder = remaining_path\n",
    "# # rsl_folder = p.with_name(p.parent.replace('data', 'results'))\n",
    "# # rsl_folder = remaining_path.replace(\"data\", \"results\")\n",
    "# rsl_folder = data_path.replace(\"data\", \"results\")\n",
    "# print(rsl_folder)\n",
    "\n",
    "# rsl_filename = filename + '_rsl.json'\n",
    "# print(rsl_filename)\n",
    "\n",
    "# rsl_path = Path(rsl_folder, rsl_filename)\n",
    "# print(rsl_path)\n",
    "\n",
    "\n"
   ]
  }
 ],
 "metadata": {
  "kernelspec": {
   "display_name": "ecg_lnx38",
   "language": "python",
   "name": "python3"
  },
  "language_info": {
   "codemirror_mode": {
    "name": "ipython",
    "version": 3
   },
   "file_extension": ".py",
   "mimetype": "text/x-python",
   "name": "python",
   "nbconvert_exporter": "python",
   "pygments_lexer": "ipython3",
   "version": "3.8.13"
  },
  "orig_nbformat": 4
 },
 "nbformat": 4,
 "nbformat_minor": 2
}
