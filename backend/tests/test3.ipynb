{
 "cells": [
  {
   "cell_type": "code",
   "execution_count": 8,
   "metadata": {},
   "outputs": [
    {
     "name": "stdout",
     "output_type": "stream",
     "text": [
      "Duomenų aplankas: /home/kesju/DI/DUOM_2022_RUDUO_2/20_records_for_testing\n",
      "True\n",
      "ieškome comments.csv\n",
      "     file_name  incl  flag  comment\n",
      "0  1626934.963     1     1  Žilvino\n",
      "1  1626931.201     0     0     Igno\n",
      "2  1630721.490     3     3  Alberto\n",
      "1626934.963\n",
      "1626931.201\n",
      "1630721.49\n",
      "file_name    object\n",
      "incl          int64\n",
      "flag          int64\n",
      "comment      object\n",
      "dtype: object\n",
      "     file_name  incl  flag  comment\n",
      "0  1626934.963     1     1  Žilvino\n",
      "1  1626931.201     0     0     Igno\n",
      "2  1630721.490     3     3  Alberto\n"
     ]
    }
   ],
   "source": [
    "import pandas as pd\n",
    "from pathlib import Path\n",
    "\n",
    "Duomenu_aplankas = '/home/kesju/DI'   # arba variantas: UBUNTU, be Docker\n",
    "db_folder = 'DUOM_2022_RUDUO_2'\n",
    "rec_folder = '20_records_for_testing'\n",
    "db_path = Path(Duomenu_aplankas, db_folder, rec_folder) \n",
    "print( 'Duomenų aplankas:', db_path)\n",
    "\n",
    "# filename = 1630721.490\n",
    "# filename_str = \"{:.3f}\".format(filename)\n",
    "# print(filename_str)\n",
    "\n",
    "file_path = Path(db_path, 'comments.csv')\n",
    "print(file_path.exists())\n",
    "if ('file_path.exists():', file_path.exists()):\n",
    "    print(\"ieškome comments.csv\")\n",
    "    df_comments = pd.read_csv(file_path)\n",
    "    print(df_comments.head())\n",
    "\n",
    "# Čia reikia įdėti file_name sutvarkymą - reikia paversti, kad būtų visi trys ženklai plėtinyje\n",
    "\n",
    "    # df_comments['file_name'] =  \"{:.3f}\".format(df_comments['file_name']) # - šitas nepadeda\n",
    "\n",
    "    for i in range(len(df_comments)):\n",
    "        print(df_comments.loc[i, 'file_name'])\n",
    "        df_comments.loc[i, 'file_name'] =  \"{:.3f}\".format(df_comments.loc[i, 'file_name'])\n",
    "\n",
    "    print(df_comments.dtypes)                                    \n",
    "    print(df_comments.head())\n",
    "    # print(df_list.dtypes)\n",
    "    # df_list = add_comments(df_list, df_comments)\n",
    "    # print(df_list)\n",
    "       "
   ]
  }
 ],
 "metadata": {
  "kernelspec": {
   "display_name": "ecg_lnx38",
   "language": "python",
   "name": "python3"
  },
  "language_info": {
   "codemirror_mode": {
    "name": "ipython",
    "version": 3
   },
   "file_extension": ".py",
   "mimetype": "text/x-python",
   "name": "python",
   "nbconvert_exporter": "python",
   "pygments_lexer": "ipython3",
   "version": "3.8.13"
  },
  "orig_nbformat": 4
 },
 "nbformat": 4,
 "nbformat_minor": 2
}
