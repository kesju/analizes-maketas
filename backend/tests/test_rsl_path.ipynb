{
 "cells": [
  {
   "cell_type": "code",
   "execution_count": null,
   "metadata": {},
   "outputs": [],
   "source": [
    "# Make from data/file_name to results/file_name_rsl.json\n",
    "\n",
    "from pathlib import Path\n",
    "\n",
    "# Priedas rezultatu įrašymui analizės makete\n",
    "data_path = Path('/home/kesju/DI/MAKETAS/analizes-maketas/data/1626931.201')\n",
    "\n",
    "rsl_string = str(data_path).replace(\"data\", \"results\")\n",
    "rsl_path = Path(rsl_string)\n",
    "rsl_parent = rsl_path.parent\n",
    "\n",
    "rsl_filename = rsl_path.name + '_rsl.json'\n",
    "print(rsl_filename)\n",
    "\n",
    "\n",
    "rsl_path = Path(rsl_parent, rsl_filename)\n",
    "print(rsl_path)\n",
    "\n"
   ]
  }
 ],
 "metadata": {
  "language_info": {
   "name": "python"
  },
  "orig_nbformat": 4
 },
 "nbformat": 4,
 "nbformat_minor": 2
}
